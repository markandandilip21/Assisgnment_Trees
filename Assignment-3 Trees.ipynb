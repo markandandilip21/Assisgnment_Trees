{
 "cells": [
  {
   "cell_type": "code",
   "execution_count": 18,
   "id": "46f4afa2",
   "metadata": {},
   "outputs": [
    {
     "name": "stdout",
     "output_type": "stream",
     "text": [
      "Inorder traversal:\n",
      "4 2 5 1 3 "
     ]
    }
   ],
   "source": [
    "# 1.Binary Tree Implementation:\n",
    "class TreeNode:\n",
    "    def __init__(self, key):\n",
    "        self.left = None\n",
    "        self.right = None\n",
    "        self.val = key\n",
    "\n",
    "def inorder_traversal(node):\n",
    "    if node is not None:\n",
    "        inorder_traversal(node.left)\n",
    "        print(node.val, end=\" \")\n",
    "        inorder_traversal(node.right)\n",
    "root = TreeNode(1)\n",
    "root.left = TreeNode(2)\n",
    "root.right = TreeNode(3)\n",
    "root.left.left = TreeNode(4)\n",
    "root.left.right = TreeNode(5)\n",
    "\n",
    "# Binary tree structure:\n",
    "#       1\n",
    "#      / \\\n",
    "#     2   3\n",
    "#    / \\\n",
    "#   4   5\n",
    "\n",
    "print(\"Inorder traversal:\")\n",
    "inorder_traversal(root)"
   ]
  },
  {
   "cell_type": "code",
   "execution_count": 5,
   "id": "f8f4437c",
   "metadata": {},
   "outputs": [
    {
     "name": "stdout",
     "output_type": "stream",
     "text": [
      "Height of the tree: 3\n"
     ]
    }
   ],
   "source": [
    "#2.Find the height of a given tree:\n",
    "def find_height(node):\n",
    "    if node is None:\n",
    "        return 0\n",
    "    left_height = find_height(node.left)\n",
    "    right_height = find_height(node.right)\n",
    "    return max(left_height, right_height) + 1\n",
    "\n",
    "print(\"Height of the tree:\", find_height(root))  # Output: 3\n"
   ]
  },
  {
   "cell_type": "code",
   "execution_count": 6,
   "id": "79406db5",
   "metadata": {},
   "outputs": [
    {
     "name": "stdout",
     "output_type": "stream",
     "text": [
      "Pre-order traversal:\n",
      "1 2 4 5 3 6 7 \n",
      "In-order traversal:\n",
      "4 2 5 1 6 3 7 \n",
      "Post-order traversal:\n",
      "4 5 2 6 7 3 1 "
     ]
    }
   ],
   "source": [
    "#3.Perform Pre-order, Post-order, In-order traversal\n",
    "def preorder_traversal(node):\n",
    "    if node is not None:\n",
    "        print(node.value, end=\" \")\n",
    "        preorder_traversal(node.left)\n",
    "        preorder_traversal(node.right)\n",
    "\n",
    "def inorder_traversal(node):\n",
    "    if node is not None:\n",
    "        inorder_traversal(node.left)\n",
    "        print(node.value, end=\" \")\n",
    "        inorder_traversal(node.right)\n",
    "\n",
    "def postorder_traversal(node):\n",
    "    if node is not None:\n",
    "        postorder_traversal(node.left)\n",
    "        postorder_traversal(node.right)\n",
    "        print(node.value, end=\" \")\n",
    "\n",
    "print(\"Pre-order traversal:\")\n",
    "preorder_traversal(root)  \n",
    "\n",
    "print(\"\\nIn-order traversal:\")\n",
    "inorder_traversal(root)  \n",
    "\n",
    "print(\"\\nPost-order traversal:\")\n",
    "postorder_traversal(root) \n"
   ]
  },
  {
   "cell_type": "code",
   "execution_count": 7,
   "id": "2cba8469",
   "metadata": {},
   "outputs": [
    {
     "name": "stdout",
     "output_type": "stream",
     "text": [
      "Leaves of the tree:\n",
      "4 5 6 7 "
     ]
    }
   ],
   "source": [
    "#4.Print all the leaves in a given binary tree:\n",
    "def print_leaves(node):\n",
    "    if node is not None:\n",
    "        if node.left is None and node.right is None:\n",
    "            print(node.value, end=\" \")\n",
    "        print_leaves(node.left)\n",
    "        print_leaves(node.right)\n",
    "\n",
    "print(\"Leaves of the tree:\")\n",
    "print_leaves(root)  \n"
   ]
  },
  {
   "cell_type": "code",
   "execution_count": 8,
   "id": "606a3a42",
   "metadata": {},
   "outputs": [
    {
     "name": "stdout",
     "output_type": "stream",
     "text": [
      "BFS traversal:\n",
      "1 2 3 4 5 6 7 \n",
      "DFS traversal:\n",
      "1 2 4 5 3 6 7 "
     ]
    }
   ],
   "source": [
    "#5.Implement BFS (Breath First Search) and DFS (Depth First Search):\n",
    "from collections import deque\n",
    "\n",
    "def bfs_traversal(node):\n",
    "    if node is None:\n",
    "        return\n",
    "    queue = deque([node])\n",
    "    while queue:\n",
    "        current = queue.popleft()\n",
    "        print(current.value, end=\" \")\n",
    "        if current.left:\n",
    "            queue.append(current.left)\n",
    "        if current.right:\n",
    "            queue.append(current.right)\n",
    "\n",
    "def dfs_traversal(node):\n",
    "    if node is None:\n",
    "        return\n",
    "    print(node.value, end=\" \")\n",
    "    dfs_traversal(node.left)\n",
    "    dfs_traversal(node.right)\n",
    "\n",
    "print(\"BFS traversal:\")\n",
    "bfs_traversal(root) \n",
    "\n",
    "print(\"\\nDFS traversal:\")\n",
    "dfs_traversal(root) \n"
   ]
  },
  {
   "cell_type": "code",
   "execution_count": 9,
   "id": "144be1fc",
   "metadata": {},
   "outputs": [
    {
     "name": "stdout",
     "output_type": "stream",
     "text": [
      "Sum of left leaves: 10\n"
     ]
    }
   ],
   "source": [
    "#6.Find the sum of all nodes of the given perfect binary tree:\n",
    "def sum_left_leaves(node, is_left=False):\n",
    "    if node is None:\n",
    "        return 0\n",
    "    if node.left is None and node.right is None and is_left:\n",
    "        return node.value\n",
    "    return sum_left_leaves(node.left, True) + sum_left_leaves(node.right, False)\n",
    "\n",
    "print(\"Sum of left leaves:\", sum_left_leaves(root))\n"
   ]
  },
  {
   "cell_type": "code",
   "execution_count": 12,
   "id": "4ef1587a",
   "metadata": {},
   "outputs": [
    {
     "name": "stdout",
     "output_type": "stream",
     "text": [
      "Sum of all nodes: 28\n"
     ]
    }
   ],
   "source": [
    "#7.Find the sum of all nodes of the given perfect binary tree:\n",
    "def sum_all_nodes(node):\n",
    "    if node is None:\n",
    "        return 0\n",
    "    return node.value + sum_all_nodes(node.left) + sum_all_nodes(node.right)\n",
    "\n",
    "print(\"Sum of all nodes:\", sum_all_nodes(root))  \n",
    "\n"
   ]
  },
  {
   "cell_type": "code",
   "execution_count": 17,
   "id": "69dfdd8f",
   "metadata": {},
   "outputs": [
    {
     "name": "stdout",
     "output_type": "stream",
     "text": [
      "Number of subtrees with sum 8 : 1\n"
     ]
    }
   ],
   "source": [
    "#8.Count subtrees that sum up to a given value x in a binary tree: \n",
    "class TreeNode:\n",
    "    def __init__(self, val=0, left=None, right=None):\n",
    "        self.val = val\n",
    "        self.left = left\n",
    "        self.right = right\n",
    "\n",
    "def count_subtrees_with_sum(root, target_sum):\n",
    "    def helper(node):\n",
    "        nonlocal count\n",
    "        if not node:\n",
    "            return 0\n",
    "        \n",
    "        left_sum = helper(node.left)\n",
    "        right_sum = helper(node.right)\n",
    "        subtree_sum = node.val + left_sum + right_sum\n",
    "        \n",
    "        if subtree_sum == target_sum:\n",
    "            count += 1\n",
    "        \n",
    "        return subtree_sum\n",
    "    \n",
    "    count = 0\n",
    "    helper(root)\n",
    "    return count\n",
    "\n",
    "root = TreeNode(10)\n",
    "root.left = TreeNode(5)\n",
    "root.right = TreeNode(-3)\n",
    "root.left.left = TreeNode(3)\n",
    "root.left.right = TreeNode(2)\n",
    "root.right.right = TreeNode(11)\n",
    "root.left.left.left = TreeNode(3)\n",
    "root.left.left.right = TreeNode(-2)\n",
    "root.left.right.right = TreeNode(1)\n",
    "\n",
    "target_sum = 8\n",
    "result = count_subtrees_with_sum(root, target_sum)\n",
    "print(\"Number of subtrees with sum\", target_sum, \":\", result)\n"
   ]
  },
  {
   "cell_type": "code",
   "execution_count": 14,
   "id": "c90493b4",
   "metadata": {},
   "outputs": [
    {
     "name": "stdout",
     "output_type": "stream",
     "text": [
      "Maximum level sum: 22\n"
     ]
    }
   ],
   "source": [
    "#9.Find the maximum level sum in Binary Tree:\n",
    "def max_level_sum(node):\n",
    "    if node is None:\n",
    "        return 0\n",
    "    \n",
    "    queue = deque([node])\n",
    "    max_sum = float(\"-inf\")\n",
    "    \n",
    "    while queue:\n",
    "        level_size = len(queue)\n",
    "        level_sum = 0\n",
    "        \n",
    "        for _ in range(level_size):\n",
    "            current = queue.popleft()\n",
    "            level_sum += current.value\n",
    "            \n",
    "            if current.left:\n",
    "                queue.append(current.left)\n",
    "            if current.right:\n",
    "                queue.append(current.right)\n",
    "        \n",
    "        max_sum = max(max_sum, level_sum)\n",
    "    \n",
    "    return max_sum\n",
    "\n",
    "print(\"Maximum level sum:\", max_level_sum(root)) \n"
   ]
  },
  {
   "cell_type": "code",
   "execution_count": 15,
   "id": "4a2cea5a",
   "metadata": {},
   "outputs": [
    {
     "name": "stdout",
     "output_type": "stream",
     "text": [
      "Nodes at odd levels:\n",
      "1 4 5 6 7 "
     ]
    }
   ],
   "source": [
    "#10.Print the nodes at odd levels of a tree:\n",
    "def print_odd_level_nodes(node, level=1):\n",
    "    if node is None:\n",
    "        return\n",
    "    if level % 2 == 1:\n",
    "        print(node.value, end=\" \")\n",
    "    print_odd_level_nodes(node.left, level + 1)\n",
    "    print_odd_level_nodes(node.right, level + 1)\n",
    "\n",
    "print(\"Nodes at odd levels:\")\n",
    "print_odd_level_nodes(root)  \n"
   ]
  },
  {
   "cell_type": "code",
   "execution_count": null,
   "id": "b7e97a31",
   "metadata": {},
   "outputs": [],
   "source": []
  }
 ],
 "metadata": {
  "kernelspec": {
   "display_name": "Python 3 (ipykernel)",
   "language": "python",
   "name": "python3"
  },
  "language_info": {
   "codemirror_mode": {
    "name": "ipython",
    "version": 3
   },
   "file_extension": ".py",
   "mimetype": "text/x-python",
   "name": "python",
   "nbconvert_exporter": "python",
   "pygments_lexer": "ipython3",
   "version": "3.10.9"
  }
 },
 "nbformat": 4,
 "nbformat_minor": 5
}
